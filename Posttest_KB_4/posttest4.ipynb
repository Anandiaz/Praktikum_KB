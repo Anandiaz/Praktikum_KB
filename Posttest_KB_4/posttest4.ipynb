{
 "cells": [
  {
   "cell_type": "markdown",
   "id": "e9384ada-13ea-408d-a3a7-4a974cf6f04c",
   "metadata": {},
   "source": [
    "### Pertama kita import dulu library yang akan digunakan disini kita hanya menggunakan pandas"
   ]
  },
  {
   "cell_type": "code",
   "execution_count": 1,
   "id": "c076869b-f167-4418-844b-b1d12514325a",
   "metadata": {},
   "outputs": [],
   "source": [
    "import pandas as pd\n"
   ]
  },
  {
   "cell_type": "markdown",
   "id": "781b281b-8c81-4bf0-aac6-50975e7cef3e",
   "metadata": {},
   "source": [
    "### kemudian kita bikin dataframe dengan isi dari dataset yang kita punya"
   ]
  },
  {
   "cell_type": "code",
   "execution_count": 2,
   "id": "b0d8a2e7-6405-47fe-afb2-955505c00345",
   "metadata": {},
   "outputs": [],
   "source": [
    "df = pd.read_csv(\"Star9999_raw.csv\")"
   ]
  },
  {
   "cell_type": "markdown",
   "id": "842774ba-2e45-43c5-b1d1-e90fa2a33c88",
   "metadata": {},
   "source": [
    "### Penjelasan tiap Kolom\n",
    "#### Vmag disini adalah data untuk besarnya bintang\n",
    "#### Plx jarak bintang dengan bumi\n",
    "#### e_Plx perkiraan selisih dari jarak asli bintang dengan bumi\n",
    "#### B-V adalah indeks warna bintang semakin rendah maka semakin panas bintangnya\n",
    "#### SpType adalah kolom kategorikal bintang"
   ]
  },
  {
   "cell_type": "code",
   "execution_count": 3,
   "id": "a1b99586-4c5c-4596-bf7f-6a3202e4649f",
   "metadata": {},
   "outputs": [
    {
     "name": "stdout",
     "output_type": "stream",
     "text": [
      "<class 'pandas.core.frame.DataFrame'>\n",
      "RangeIndex: 9999 entries, 0 to 9998\n",
      "Data columns (total 6 columns):\n",
      " #   Column      Non-Null Count  Dtype  \n",
      "---  ------      --------------  -----  \n",
      " 0   Unnamed: 0  9999 non-null   int64  \n",
      " 1   Vmag        9999 non-null   float64\n",
      " 2   Plx         9999 non-null   object \n",
      " 3   e_Plx       9999 non-null   object \n",
      " 4   B-V         9999 non-null   object \n",
      " 5   SpType      9722 non-null   object \n",
      "dtypes: float64(1), int64(1), object(4)\n",
      "memory usage: 468.8+ KB\n"
     ]
    }
   ],
   "source": [
    "df.info()"
   ]
  },
  {
   "cell_type": "code",
   "execution_count": 4,
   "id": "984389f7-feb0-4c51-a86d-5ba623bd359b",
   "metadata": {},
   "outputs": [
    {
     "data": {
      "text/html": [
       "<div>\n",
       "<style scoped>\n",
       "    .dataframe tbody tr th:only-of-type {\n",
       "        vertical-align: middle;\n",
       "    }\n",
       "\n",
       "    .dataframe tbody tr th {\n",
       "        vertical-align: top;\n",
       "    }\n",
       "\n",
       "    .dataframe thead th {\n",
       "        text-align: right;\n",
       "    }\n",
       "</style>\n",
       "<table border=\"1\" class=\"dataframe\">\n",
       "  <thead>\n",
       "    <tr style=\"text-align: right;\">\n",
       "      <th></th>\n",
       "      <th>Unnamed: 0</th>\n",
       "      <th>Vmag</th>\n",
       "      <th>Plx</th>\n",
       "      <th>e_Plx</th>\n",
       "      <th>B-V</th>\n",
       "      <th>SpType</th>\n",
       "    </tr>\n",
       "  </thead>\n",
       "  <tbody>\n",
       "    <tr>\n",
       "      <th>0</th>\n",
       "      <td>0</td>\n",
       "      <td>9.10</td>\n",
       "      <td>3.54</td>\n",
       "      <td>1.39</td>\n",
       "      <td>0.482</td>\n",
       "      <td>F5</td>\n",
       "    </tr>\n",
       "    <tr>\n",
       "      <th>1</th>\n",
       "      <td>1</td>\n",
       "      <td>9.27</td>\n",
       "      <td>21.90</td>\n",
       "      <td>3.10</td>\n",
       "      <td>0.999</td>\n",
       "      <td>K3V</td>\n",
       "    </tr>\n",
       "    <tr>\n",
       "      <th>2</th>\n",
       "      <td>2</td>\n",
       "      <td>6.61</td>\n",
       "      <td>2.81</td>\n",
       "      <td>0.63</td>\n",
       "      <td>-0.019</td>\n",
       "      <td>B9</td>\n",
       "    </tr>\n",
       "    <tr>\n",
       "      <th>3</th>\n",
       "      <td>3</td>\n",
       "      <td>8.06</td>\n",
       "      <td>7.75</td>\n",
       "      <td>0.97</td>\n",
       "      <td>0.370</td>\n",
       "      <td>F0V</td>\n",
       "    </tr>\n",
       "    <tr>\n",
       "      <th>4</th>\n",
       "      <td>4</td>\n",
       "      <td>8.55</td>\n",
       "      <td>2.87</td>\n",
       "      <td>1.11</td>\n",
       "      <td>0.902</td>\n",
       "      <td>G8III</td>\n",
       "    </tr>\n",
       "  </tbody>\n",
       "</table>\n",
       "</div>"
      ],
      "text/plain": [
       "   Unnamed: 0  Vmag      Plx   e_Plx     B-V SpType\n",
       "0           0  9.10     3.54    1.39   0.482     F5\n",
       "1           1  9.27    21.90    3.10   0.999    K3V\n",
       "2           2  6.61     2.81    0.63  -0.019     B9\n",
       "3           3  8.06     7.75    0.97   0.370    F0V\n",
       "4           4  8.55     2.87    1.11   0.902  G8III"
      ]
     },
     "execution_count": 4,
     "metadata": {},
     "output_type": "execute_result"
    }
   ],
   "source": [
    "df.head()"
   ]
  },
  {
   "cell_type": "markdown",
   "id": "2b80da7d-52ce-40a5-9eb4-c81755339576",
   "metadata": {},
   "source": [
    "### Setelah kita cek datanya ternyata terjadi kesalahan tipe data yang seharusnya float malah menjadi object sehingga kita perlu mengubahnya kembali dari object ke float menggunakan pd.to_numeric()"
   ]
  },
  {
   "cell_type": "code",
   "execution_count": 5,
   "id": "1512afa6-eeab-4d32-92d8-1e5a311bb564",
   "metadata": {},
   "outputs": [],
   "source": [
    "df = df.drop(columns=['Unnamed: 0'])"
   ]
  },
  {
   "cell_type": "code",
   "execution_count": 6,
   "id": "99ce718a-8343-4acc-8386-fa6ae2d03d0e",
   "metadata": {},
   "outputs": [],
   "source": [
    "df['Plx'] = pd.to_numeric(df['Plx'], errors='coerce')\n",
    "df['e_Plx'] = pd.to_numeric(df['e_Plx'], errors='coerce')\n",
    "df['B-V'] = pd.to_numeric(df['B-V'], errors='coerce')"
   ]
  },
  {
   "cell_type": "code",
   "execution_count": 7,
   "id": "73230673-1a00-46e7-be72-2cd415db5afc",
   "metadata": {},
   "outputs": [
    {
     "name": "stdout",
     "output_type": "stream",
     "text": [
      "<class 'pandas.core.frame.DataFrame'>\n",
      "RangeIndex: 9999 entries, 0 to 9998\n",
      "Data columns (total 5 columns):\n",
      " #   Column  Non-Null Count  Dtype  \n",
      "---  ------  --------------  -----  \n",
      " 0   Vmag    9999 non-null   float64\n",
      " 1   Plx     9984 non-null   float64\n",
      " 2   e_Plx   9984 non-null   float64\n",
      " 3   B-V     9907 non-null   float64\n",
      " 4   SpType  9722 non-null   object \n",
      "dtypes: float64(4), object(1)\n",
      "memory usage: 390.7+ KB\n"
     ]
    }
   ],
   "source": [
    "df.info()"
   ]
  },
  {
   "cell_type": "markdown",
   "id": "70050daa-a7a6-4996-9c06-1dfd64243d69",
   "metadata": {},
   "source": [
    "# Cleaning"
   ]
  },
  {
   "cell_type": "code",
   "execution_count": 8,
   "id": "8a1e9105-070d-4b07-bd60-f68395aafbc2",
   "metadata": {},
   "outputs": [
    {
     "data": {
      "text/plain": [
       "Vmag        0\n",
       "Plx        15\n",
       "e_Plx      15\n",
       "B-V        92\n",
       "SpType    277\n",
       "dtype: int64"
      ]
     },
     "execution_count": 8,
     "metadata": {},
     "output_type": "execute_result"
    }
   ],
   "source": [
    "df.isna().sum()"
   ]
  },
  {
   "cell_type": "markdown",
   "id": "d329f94b-68fe-4755-8a02-0c1223d30032",
   "metadata": {},
   "source": [
    "#### melakukan import SimpleImputer dari library sklearn"
   ]
  },
  {
   "cell_type": "code",
   "execution_count": 9,
   "id": "44566ba8-199c-4232-b239-0dd241947c24",
   "metadata": {},
   "outputs": [],
   "source": [
    "from sklearn.impute import SimpleImputer"
   ]
  },
  {
   "cell_type": "code",
   "execution_count": 10,
   "id": "b08dd2af-6db7-44e3-8645-f6f1d8f375cc",
   "metadata": {},
   "outputs": [],
   "source": [
    "si_mean = SimpleImputer(strategy='mean')\n",
    "df[['Plx','e_Plx','B-V']] = si_mean.fit_transform(df[['Plx','e_Plx','B-V']])"
   ]
  },
  {
   "cell_type": "markdown",
   "id": "41dbdc5d-a7d9-45b7-af77-c07fa0fb35db",
   "metadata": {},
   "source": [
    "#### disini kita menggunakan strategy mean untuk mencari rata rata didalam modul SimpleImputer dimana akan diterapkan ke kolom Plx, e_Plx, B-V untuk mengisi kolom kolom yang kosong"
   ]
  },
  {
   "cell_type": "code",
   "execution_count": 11,
   "id": "c7f989ef-e5b8-491e-acf1-40e32583fbb4",
   "metadata": {},
   "outputs": [
    {
     "data": {
      "text/html": [
       "<div>\n",
       "<style scoped>\n",
       "    .dataframe tbody tr th:only-of-type {\n",
       "        vertical-align: middle;\n",
       "    }\n",
       "\n",
       "    .dataframe tbody tr th {\n",
       "        vertical-align: top;\n",
       "    }\n",
       "\n",
       "    .dataframe thead th {\n",
       "        text-align: right;\n",
       "    }\n",
       "</style>\n",
       "<table border=\"1\" class=\"dataframe\">\n",
       "  <thead>\n",
       "    <tr style=\"text-align: right;\">\n",
       "      <th></th>\n",
       "      <th>Vmag</th>\n",
       "      <th>Plx</th>\n",
       "      <th>e_Plx</th>\n",
       "      <th>B-V</th>\n",
       "      <th>SpType</th>\n",
       "    </tr>\n",
       "  </thead>\n",
       "  <tbody>\n",
       "    <tr>\n",
       "      <th>0</th>\n",
       "      <td>9.10</td>\n",
       "      <td>3.54</td>\n",
       "      <td>1.39</td>\n",
       "      <td>0.482</td>\n",
       "      <td>F5</td>\n",
       "    </tr>\n",
       "    <tr>\n",
       "      <th>1</th>\n",
       "      <td>9.27</td>\n",
       "      <td>21.90</td>\n",
       "      <td>3.10</td>\n",
       "      <td>0.999</td>\n",
       "      <td>K3V</td>\n",
       "    </tr>\n",
       "    <tr>\n",
       "      <th>2</th>\n",
       "      <td>6.61</td>\n",
       "      <td>2.81</td>\n",
       "      <td>0.63</td>\n",
       "      <td>-0.019</td>\n",
       "      <td>B9</td>\n",
       "    </tr>\n",
       "    <tr>\n",
       "      <th>3</th>\n",
       "      <td>8.06</td>\n",
       "      <td>7.75</td>\n",
       "      <td>0.97</td>\n",
       "      <td>0.370</td>\n",
       "      <td>F0V</td>\n",
       "    </tr>\n",
       "    <tr>\n",
       "      <th>4</th>\n",
       "      <td>8.55</td>\n",
       "      <td>2.87</td>\n",
       "      <td>1.11</td>\n",
       "      <td>0.902</td>\n",
       "      <td>G8III</td>\n",
       "    </tr>\n",
       "  </tbody>\n",
       "</table>\n",
       "</div>"
      ],
      "text/plain": [
       "   Vmag    Plx  e_Plx    B-V SpType\n",
       "0  9.10   3.54   1.39  0.482     F5\n",
       "1  9.27  21.90   3.10  0.999    K3V\n",
       "2  6.61   2.81   0.63 -0.019     B9\n",
       "3  8.06   7.75   0.97  0.370    F0V\n",
       "4  8.55   2.87   1.11  0.902  G8III"
      ]
     },
     "execution_count": 11,
     "metadata": {},
     "output_type": "execute_result"
    }
   ],
   "source": [
    "df.head()"
   ]
  },
  {
   "cell_type": "code",
   "execution_count": 12,
   "id": "157e09a3-5235-4e5a-991a-a5ead4434d03",
   "metadata": {},
   "outputs": [],
   "source": [
    "si_modus = SimpleImputer(strategy='most_frequent')\n",
    "df[['SpType']] = si_modus.fit_transform(df[['SpType']])"
   ]
  },
  {
   "cell_type": "markdown",
   "id": "9f7656ab-4f04-403e-a3fc-a871df28f4d6",
   "metadata": {},
   "source": [
    "#### disini kita menggunakan strategy most_frequent untuk mencari modus / data yang paling sering muncul yang digunakan untuk mengisi kekosongan data didalam kolom SpType"
   ]
  },
  {
   "cell_type": "code",
   "execution_count": 13,
   "id": "bfc6eccc-a430-4258-afa8-1867c50512ea",
   "metadata": {},
   "outputs": [
    {
     "data": {
      "text/plain": [
       "Vmag      0\n",
       "Plx       0\n",
       "e_Plx     0\n",
       "B-V       0\n",
       "SpType    0\n",
       "dtype: int64"
      ]
     },
     "execution_count": 13,
     "metadata": {},
     "output_type": "execute_result"
    }
   ],
   "source": [
    "df.isna().sum()"
   ]
  },
  {
   "cell_type": "markdown",
   "id": "493e7a87-a500-4a48-87dc-44829df66ce4",
   "metadata": {},
   "source": [
    "# Duplikat"
   ]
  },
  {
   "cell_type": "code",
   "execution_count": 14,
   "id": "7ade2469-472b-420a-afdc-6769f6f71bf7",
   "metadata": {},
   "outputs": [
    {
     "data": {
      "text/plain": [
       "0"
      ]
     },
     "execution_count": 14,
     "metadata": {},
     "output_type": "execute_result"
    }
   ],
   "source": [
    "df.duplicated().sum()"
   ]
  },
  {
   "cell_type": "markdown",
   "id": "7dace7f5-81fc-4869-9187-315592906f24",
   "metadata": {},
   "source": [
    "#### Karena data yang saya punya tidak memiliki duplikat jadinya saya harus menduplikat dulu datanya"
   ]
  },
  {
   "cell_type": "code",
   "execution_count": 15,
   "id": "d37f0c0f-5bd1-42aa-b53f-b4fdc0c3e3ab",
   "metadata": {},
   "outputs": [],
   "source": [
    "df = pd.concat([df]*2, ignore_index=True)"
   ]
  },
  {
   "cell_type": "code",
   "execution_count": 16,
   "id": "5016dae3-90e4-472c-9164-46f843e33ffe",
   "metadata": {},
   "outputs": [
    {
     "data": {
      "text/plain": [
       "9999"
      ]
     },
     "execution_count": 16,
     "metadata": {},
     "output_type": "execute_result"
    }
   ],
   "source": [
    "df.duplicated().sum()"
   ]
  },
  {
   "cell_type": "code",
   "execution_count": 17,
   "id": "891a7004-69ef-4197-95e7-8ee68963be79",
   "metadata": {},
   "outputs": [],
   "source": [
    "df.drop_duplicates(inplace = True)"
   ]
  },
  {
   "cell_type": "markdown",
   "id": "8e4bbdc0-8869-4507-be5a-19d813ba1f64",
   "metadata": {},
   "source": [
    "#### Setelah menduplikat data kemudian saya menggunakan function drop_duplicates(inplace = True) untuk menghapus data yang terduplikat tadi"
   ]
  },
  {
   "cell_type": "code",
   "execution_count": 18,
   "id": "d8aaf1c0-a98c-412f-b5b6-32aeb273d1fa",
   "metadata": {},
   "outputs": [
    {
     "data": {
      "text/plain": [
       "0"
      ]
     },
     "execution_count": 18,
     "metadata": {},
     "output_type": "execute_result"
    }
   ],
   "source": [
    "df.duplicated().sum()"
   ]
  },
  {
   "cell_type": "markdown",
   "id": "405e11d8-f05c-4054-ac2a-32b327b99d85",
   "metadata": {},
   "source": [
    "### Mengubah tipe data"
   ]
  },
  {
   "cell_type": "code",
   "execution_count": 19,
   "id": "c1fcae92-6203-445d-987a-47d4bdc83ce1",
   "metadata": {},
   "outputs": [],
   "source": [
    "df['e_Plx'] = df['e_Plx'].astype(int)"
   ]
  },
  {
   "cell_type": "markdown",
   "id": "dde1896c-6523-46b0-af7b-45c503eff9f5",
   "metadata": {},
   "source": [
    "#### untuk mengubah tipe data disini saya menggunakan function astype bawaan dari pandas"
   ]
  },
  {
   "cell_type": "code",
   "execution_count": 20,
   "id": "290e3305-f6e7-4af7-b8d7-633b8e909d0c",
   "metadata": {},
   "outputs": [
    {
     "name": "stdout",
     "output_type": "stream",
     "text": [
      "<class 'pandas.core.frame.DataFrame'>\n",
      "Int64Index: 9999 entries, 0 to 9998\n",
      "Data columns (total 5 columns):\n",
      " #   Column  Non-Null Count  Dtype  \n",
      "---  ------  --------------  -----  \n",
      " 0   Vmag    9999 non-null   float64\n",
      " 1   Plx     9999 non-null   float64\n",
      " 2   e_Plx   9999 non-null   int32  \n",
      " 3   B-V     9999 non-null   float64\n",
      " 4   SpType  9999 non-null   object \n",
      "dtypes: float64(3), int32(1), object(1)\n",
      "memory usage: 429.6+ KB\n"
     ]
    }
   ],
   "source": [
    "df.info()"
   ]
  },
  {
   "cell_type": "markdown",
   "id": "0b5eab2e-31f0-43bf-9d0c-7e0d70d3f55d",
   "metadata": {},
   "source": [
    "# STANDARISASI"
   ]
  },
  {
   "cell_type": "markdown",
   "id": "a793e87e-f62c-44d9-83b1-dae7adecd3d5",
   "metadata": {},
   "source": [
    "#### Pertama kita lakukan import modul StandardScaler dari library sklearn"
   ]
  },
  {
   "cell_type": "code",
   "execution_count": 21,
   "id": "a30df2da-ec35-4641-a540-169d4852531f",
   "metadata": {},
   "outputs": [],
   "source": [
    "from sklearn.preprocessing import StandardScaler"
   ]
  },
  {
   "cell_type": "code",
   "execution_count": 22,
   "id": "96774be5-576b-49f4-8028-9041d6332fa6",
   "metadata": {},
   "outputs": [],
   "source": [
    "df_old = df"
   ]
  },
  {
   "cell_type": "markdown",
   "id": "1c73657d-99cb-462e-9e12-399779469227",
   "metadata": {},
   "source": [
    "#### disini saya membuat backup dataframe sebelum distandarisasi"
   ]
  },
  {
   "cell_type": "code",
   "execution_count": 23,
   "id": "62749ae0-b385-4b40-b38b-40e370f48c63",
   "metadata": {},
   "outputs": [
    {
     "data": {
      "text/html": [
       "<div>\n",
       "<style scoped>\n",
       "    .dataframe tbody tr th:only-of-type {\n",
       "        vertical-align: middle;\n",
       "    }\n",
       "\n",
       "    .dataframe tbody tr th {\n",
       "        vertical-align: top;\n",
       "    }\n",
       "\n",
       "    .dataframe thead th {\n",
       "        text-align: right;\n",
       "    }\n",
       "</style>\n",
       "<table border=\"1\" class=\"dataframe\">\n",
       "  <thead>\n",
       "    <tr style=\"text-align: right;\">\n",
       "      <th></th>\n",
       "      <th>Vmag</th>\n",
       "      <th>Plx</th>\n",
       "      <th>e_Plx</th>\n",
       "      <th>B-V</th>\n",
       "      <th>SpType</th>\n",
       "    </tr>\n",
       "  </thead>\n",
       "  <tbody>\n",
       "    <tr>\n",
       "      <th>0</th>\n",
       "      <td>9.10</td>\n",
       "      <td>3.54</td>\n",
       "      <td>1</td>\n",
       "      <td>0.482</td>\n",
       "      <td>F5</td>\n",
       "    </tr>\n",
       "    <tr>\n",
       "      <th>1</th>\n",
       "      <td>9.27</td>\n",
       "      <td>21.90</td>\n",
       "      <td>3</td>\n",
       "      <td>0.999</td>\n",
       "      <td>K3V</td>\n",
       "    </tr>\n",
       "    <tr>\n",
       "      <th>2</th>\n",
       "      <td>6.61</td>\n",
       "      <td>2.81</td>\n",
       "      <td>0</td>\n",
       "      <td>-0.019</td>\n",
       "      <td>B9</td>\n",
       "    </tr>\n",
       "    <tr>\n",
       "      <th>3</th>\n",
       "      <td>8.06</td>\n",
       "      <td>7.75</td>\n",
       "      <td>0</td>\n",
       "      <td>0.370</td>\n",
       "      <td>F0V</td>\n",
       "    </tr>\n",
       "    <tr>\n",
       "      <th>4</th>\n",
       "      <td>8.55</td>\n",
       "      <td>2.87</td>\n",
       "      <td>1</td>\n",
       "      <td>0.902</td>\n",
       "      <td>G8III</td>\n",
       "    </tr>\n",
       "  </tbody>\n",
       "</table>\n",
       "</div>"
      ],
      "text/plain": [
       "   Vmag    Plx  e_Plx    B-V SpType\n",
       "0  9.10   3.54      1  0.482     F5\n",
       "1  9.27  21.90      3  0.999    K3V\n",
       "2  6.61   2.81      0 -0.019     B9\n",
       "3  8.06   7.75      0  0.370    F0V\n",
       "4  8.55   2.87      1  0.902  G8III"
      ]
     },
     "execution_count": 23,
     "metadata": {},
     "output_type": "execute_result"
    }
   ],
   "source": [
    "df.head()"
   ]
  },
  {
   "cell_type": "code",
   "execution_count": 24,
   "id": "28fae9a2-e688-44f1-b53c-c0b197e7e9db",
   "metadata": {},
   "outputs": [],
   "source": [
    "ss = StandardScaler()\n",
    "df[['Vmag','Plx','e_Plx','B-V']] = ss.fit_transform(df[['Vmag','Plx','e_Plx','B-V']])"
   ]
  },
  {
   "cell_type": "markdown",
   "id": "5f3b1ed6-72a2-4ffd-84c8-c252ab30fbb1",
   "metadata": {},
   "source": [
    "#### dibawah ini adalah nilai standarisasi dari tiap kolom"
   ]
  },
  {
   "cell_type": "code",
   "execution_count": 25,
   "id": "a5d310dc-3029-444d-9fec-385d27e7134d",
   "metadata": {},
   "outputs": [
    {
     "name": "stdout",
     "output_type": "stream",
     "text": [
      "Standarisasi dari Vmag adalah 1.000050008751563\n",
      "Standarisasi dari Plx adalah 1.000050008751563\n",
      "Standarisasi dari e_Plx adalah 1.000050008751563\n",
      "Standarisasi dari B-V adalah 1.000050008751563\n"
     ]
    }
   ],
   "source": [
    "for i in df:\n",
    "    if df[i].dtypes == int or df[i].dtypes == float:\n",
    "        print(\"Standarisasi dari\", i, \"adalah\" ,df[i].std())\n",
    "    else:\n",
    "        continue"
   ]
  },
  {
   "cell_type": "markdown",
   "id": "83787900-c91f-4329-ab93-e02d18279087",
   "metadata": {},
   "source": [
    "# Normalisasi"
   ]
  },
  {
   "cell_type": "markdown",
   "id": "dab567ae-0edc-454b-9c11-55360e3823fe",
   "metadata": {},
   "source": [
    "#### Sebelum melakukan normalisasi data kita perlu menginmport modul MinMaxScaler dari library skelarn"
   ]
  },
  {
   "cell_type": "code",
   "execution_count": 26,
   "id": "5ed341b0-64ae-4c66-be2f-e455056ea8dd",
   "metadata": {},
   "outputs": [],
   "source": [
    "from sklearn.preprocessing import MinMaxScaler"
   ]
  },
  {
   "cell_type": "code",
   "execution_count": 27,
   "id": "b7fba1bd-d42a-4c4a-8677-adce7f390e2c",
   "metadata": {},
   "outputs": [],
   "source": [
    "mm = MinMaxScaler()\n",
    "df[['Vmag','Plx','e_Plx','B-V']] = mm.fit_transform(df[['Vmag','Plx','e_Plx','B-V']])"
   ]
  },
  {
   "cell_type": "markdown",
   "id": "34bd816c-e671-459a-ad4a-bd05246460a4",
   "metadata": {},
   "source": [
    "#### dibawah ini adalah nilai normalisasi dari tiap kolom"
   ]
  },
  {
   "cell_type": "code",
   "execution_count": 28,
   "id": "d772b58b-ceeb-409f-b1cf-c4917dc30a91",
   "metadata": {},
   "outputs": [
    {
     "name": "stdout",
     "output_type": "stream",
     "text": [
      "Normalisasi dari Vmag adalah 0.6263330701244851\n",
      "Normalisasi dari Plx adalah 0.08655757803827767\n",
      "Normalisasi dari e_Plx adalah 0.024538564967607875\n",
      "Normalisasi dari B-V adalah 0.3458854573583165\n"
     ]
    }
   ],
   "source": [
    "for i in df:\n",
    "    if df[i].dtypes == int or df[i].dtypes == float:\n",
    "        print(\"Normalisasi dari\", i, \"adalah\" ,df[i].mean())\n",
    "    else:\n",
    "        continue"
   ]
  },
  {
   "cell_type": "markdown",
   "id": "ce6b1cef-4a65-4f0d-826e-be073079abab",
   "metadata": {},
   "source": [
    "# One Hot Encoding"
   ]
  },
  {
   "cell_type": "markdown",
   "id": "5e26139a-d771-48b3-90fd-3bdb17540270",
   "metadata": {},
   "source": [
    "#### Sebelum melakukan One Hot Encoding kita perlu mengimport modulnya terlebih dahulu"
   ]
  },
  {
   "cell_type": "code",
   "execution_count": 29,
   "id": "5be88055-869f-48a2-8beb-357fd803c39a",
   "metadata": {},
   "outputs": [],
   "source": [
    "from sklearn.preprocessing import OneHotEncoder"
   ]
  },
  {
   "cell_type": "code",
   "execution_count": 30,
   "id": "c90ef3b8-f558-4990-a198-c214f7ea1d31",
   "metadata": {},
   "outputs": [
    {
     "data": {
      "text/plain": [
       "K0         1007\n",
       "G5          623\n",
       "G0          386\n",
       "A0          382\n",
       "F5          368\n",
       "           ... \n",
       "F0Vw...       1\n",
       "F3V...        1\n",
       "F6V:          1\n",
       "K5:           1\n",
       "K1/K2II       1\n",
       "Name: SpType, Length: 885, dtype: int64"
      ]
     },
     "execution_count": 30,
     "metadata": {},
     "output_type": "execute_result"
    }
   ],
   "source": [
    "df['SpType'].value_counts()"
   ]
  },
  {
   "cell_type": "markdown",
   "id": "288b7e30-1cf2-4ba3-a5a5-c4ab9e399a5c",
   "metadata": {},
   "source": [
    "#### karena data kategorikal saya banyak sehingga saya perlu membuang datanya agar data kategorikalnya tidak terlalu banyak"
   ]
  },
  {
   "cell_type": "code",
   "execution_count": 31,
   "id": "1a2a9f1b-0c0e-4a5a-9211-87c442755907",
   "metadata": {},
   "outputs": [],
   "source": [
    "# Menghitung data yang sama\n",
    "value_counts = df['SpType'].value_counts()\n",
    "\n",
    "# Menghapus data yang memiliki value kurang dari 120\n",
    "to_remove = value_counts[value_counts <= 120].index\n",
    "\n",
    "# Menyimpan data yang memiliki value lebih dari 120\n",
    "df = df[~df.SpType.isin(to_remove)]\n",
    "SpType_value = df['SpType'].value_counts().sort_index()"
   ]
  },
  {
   "cell_type": "code",
   "execution_count": 32,
   "id": "dda5acf9-be53-4989-a2cf-4ec89135b4c5",
   "metadata": {},
   "outputs": [
    {
     "data": {
      "text/plain": [
       "K0       1007\n",
       "G5        623\n",
       "G0        386\n",
       "A0        382\n",
       "F5        368\n",
       "F8        363\n",
       "K0III     293\n",
       "K2        277\n",
       "F0        219\n",
       "K5        205\n",
       "A2        202\n",
       "K1III     200\n",
       "F5V       183\n",
       "K2III     157\n",
       "F2        155\n",
       "F3V       146\n",
       "G8III     135\n",
       "F7V       122\n",
       "Name: SpType, dtype: int64"
      ]
     },
     "execution_count": 32,
     "metadata": {},
     "output_type": "execute_result"
    }
   ],
   "source": [
    "df['SpType'].value_counts()"
   ]
  },
  {
   "cell_type": "markdown",
   "id": "c67f2d13-e2f7-4b17-80e3-ca06b5c2397e",
   "metadata": {},
   "source": [
    "#### Setelah dirasa cukup baru saya melakukan OneHotEncoder"
   ]
  },
  {
   "cell_type": "code",
   "execution_count": 33,
   "id": "962551c9-e233-40d8-9560-1b4465a252a8",
   "metadata": {},
   "outputs": [],
   "source": [
    "ohe = OneHotEncoder(sparse_output = False)\n",
    "oh_encoded = ohe.fit_transform(df[['SpType']])"
   ]
  },
  {
   "cell_type": "code",
   "execution_count": 34,
   "id": "679597af-5a72-4e70-96b8-3b9a6ee52c15",
   "metadata": {},
   "outputs": [
    {
     "name": "stdout",
     "output_type": "stream",
     "text": [
      "['A0', 'A2', 'F0', 'F2', 'F3V', 'F5', 'F5V', 'F7V', 'F8', 'G0', 'G5', 'G8III', 'K0', 'K0III', 'K1III', 'K2', 'K2III', 'K5']\n"
     ]
    }
   ],
   "source": [
    "Kolom_Kategori = []\n",
    "for i in SpType_value.index :\n",
    "    Kolom_Kategori.append(i)\n",
    "print(Kolom_Kategori)\n",
    "df_new = df.reset_index()"
   ]
  },
  {
   "cell_type": "markdown",
   "id": "8921d8d5-8dce-41d2-9f74-f74e5174ccca",
   "metadata": {},
   "source": [
    "#### disini saya membuat data set baru dimana saya perlu mereset indexnya karena sebelumnya saya menghapus data-data yang memiliki jumlah kategori kurang dari 120"
   ]
  },
  {
   "cell_type": "code",
   "execution_count": 35,
   "id": "f194909a-969f-4964-ae35-02f0ba35d0df",
   "metadata": {},
   "outputs": [
    {
     "data": {
      "text/html": [
       "<div>\n",
       "<style scoped>\n",
       "    .dataframe tbody tr th:only-of-type {\n",
       "        vertical-align: middle;\n",
       "    }\n",
       "\n",
       "    .dataframe tbody tr th {\n",
       "        vertical-align: top;\n",
       "    }\n",
       "\n",
       "    .dataframe thead th {\n",
       "        text-align: right;\n",
       "    }\n",
       "</style>\n",
       "<table border=\"1\" class=\"dataframe\">\n",
       "  <thead>\n",
       "    <tr style=\"text-align: right;\">\n",
       "      <th></th>\n",
       "      <th>A0</th>\n",
       "      <th>A2</th>\n",
       "      <th>F0</th>\n",
       "      <th>F2</th>\n",
       "      <th>F3V</th>\n",
       "      <th>F5</th>\n",
       "      <th>F5V</th>\n",
       "      <th>F7V</th>\n",
       "      <th>F8</th>\n",
       "      <th>G0</th>\n",
       "      <th>G5</th>\n",
       "      <th>G8III</th>\n",
       "      <th>K0</th>\n",
       "      <th>K0III</th>\n",
       "      <th>K1III</th>\n",
       "      <th>K2</th>\n",
       "      <th>K2III</th>\n",
       "      <th>K5</th>\n",
       "    </tr>\n",
       "  </thead>\n",
       "  <tbody>\n",
       "    <tr>\n",
       "      <th>0</th>\n",
       "      <td>0.0</td>\n",
       "      <td>0.0</td>\n",
       "      <td>0.0</td>\n",
       "      <td>0.0</td>\n",
       "      <td>0.0</td>\n",
       "      <td>1.0</td>\n",
       "      <td>0.0</td>\n",
       "      <td>0.0</td>\n",
       "      <td>0.0</td>\n",
       "      <td>0.0</td>\n",
       "      <td>0.0</td>\n",
       "      <td>0.0</td>\n",
       "      <td>0.0</td>\n",
       "      <td>0.0</td>\n",
       "      <td>0.0</td>\n",
       "      <td>0.0</td>\n",
       "      <td>0.0</td>\n",
       "      <td>0.0</td>\n",
       "    </tr>\n",
       "    <tr>\n",
       "      <th>1</th>\n",
       "      <td>0.0</td>\n",
       "      <td>0.0</td>\n",
       "      <td>0.0</td>\n",
       "      <td>0.0</td>\n",
       "      <td>0.0</td>\n",
       "      <td>0.0</td>\n",
       "      <td>0.0</td>\n",
       "      <td>0.0</td>\n",
       "      <td>0.0</td>\n",
       "      <td>0.0</td>\n",
       "      <td>0.0</td>\n",
       "      <td>1.0</td>\n",
       "      <td>0.0</td>\n",
       "      <td>0.0</td>\n",
       "      <td>0.0</td>\n",
       "      <td>0.0</td>\n",
       "      <td>0.0</td>\n",
       "      <td>0.0</td>\n",
       "    </tr>\n",
       "    <tr>\n",
       "      <th>2</th>\n",
       "      <td>0.0</td>\n",
       "      <td>0.0</td>\n",
       "      <td>0.0</td>\n",
       "      <td>0.0</td>\n",
       "      <td>0.0</td>\n",
       "      <td>0.0</td>\n",
       "      <td>0.0</td>\n",
       "      <td>0.0</td>\n",
       "      <td>0.0</td>\n",
       "      <td>1.0</td>\n",
       "      <td>0.0</td>\n",
       "      <td>0.0</td>\n",
       "      <td>0.0</td>\n",
       "      <td>0.0</td>\n",
       "      <td>0.0</td>\n",
       "      <td>0.0</td>\n",
       "      <td>0.0</td>\n",
       "      <td>0.0</td>\n",
       "    </tr>\n",
       "    <tr>\n",
       "      <th>3</th>\n",
       "      <td>0.0</td>\n",
       "      <td>0.0</td>\n",
       "      <td>0.0</td>\n",
       "      <td>0.0</td>\n",
       "      <td>0.0</td>\n",
       "      <td>0.0</td>\n",
       "      <td>0.0</td>\n",
       "      <td>0.0</td>\n",
       "      <td>0.0</td>\n",
       "      <td>0.0</td>\n",
       "      <td>1.0</td>\n",
       "      <td>0.0</td>\n",
       "      <td>0.0</td>\n",
       "      <td>0.0</td>\n",
       "      <td>0.0</td>\n",
       "      <td>0.0</td>\n",
       "      <td>0.0</td>\n",
       "      <td>0.0</td>\n",
       "    </tr>\n",
       "    <tr>\n",
       "      <th>4</th>\n",
       "      <td>0.0</td>\n",
       "      <td>1.0</td>\n",
       "      <td>0.0</td>\n",
       "      <td>0.0</td>\n",
       "      <td>0.0</td>\n",
       "      <td>0.0</td>\n",
       "      <td>0.0</td>\n",
       "      <td>0.0</td>\n",
       "      <td>0.0</td>\n",
       "      <td>0.0</td>\n",
       "      <td>0.0</td>\n",
       "      <td>0.0</td>\n",
       "      <td>0.0</td>\n",
       "      <td>0.0</td>\n",
       "      <td>0.0</td>\n",
       "      <td>0.0</td>\n",
       "      <td>0.0</td>\n",
       "      <td>0.0</td>\n",
       "    </tr>\n",
       "    <tr>\n",
       "      <th>...</th>\n",
       "      <td>...</td>\n",
       "      <td>...</td>\n",
       "      <td>...</td>\n",
       "      <td>...</td>\n",
       "      <td>...</td>\n",
       "      <td>...</td>\n",
       "      <td>...</td>\n",
       "      <td>...</td>\n",
       "      <td>...</td>\n",
       "      <td>...</td>\n",
       "      <td>...</td>\n",
       "      <td>...</td>\n",
       "      <td>...</td>\n",
       "      <td>...</td>\n",
       "      <td>...</td>\n",
       "      <td>...</td>\n",
       "      <td>...</td>\n",
       "      <td>...</td>\n",
       "    </tr>\n",
       "    <tr>\n",
       "      <th>5418</th>\n",
       "      <td>0.0</td>\n",
       "      <td>0.0</td>\n",
       "      <td>0.0</td>\n",
       "      <td>0.0</td>\n",
       "      <td>0.0</td>\n",
       "      <td>0.0</td>\n",
       "      <td>0.0</td>\n",
       "      <td>0.0</td>\n",
       "      <td>0.0</td>\n",
       "      <td>0.0</td>\n",
       "      <td>0.0</td>\n",
       "      <td>0.0</td>\n",
       "      <td>0.0</td>\n",
       "      <td>1.0</td>\n",
       "      <td>0.0</td>\n",
       "      <td>0.0</td>\n",
       "      <td>0.0</td>\n",
       "      <td>0.0</td>\n",
       "    </tr>\n",
       "    <tr>\n",
       "      <th>5419</th>\n",
       "      <td>0.0</td>\n",
       "      <td>0.0</td>\n",
       "      <td>0.0</td>\n",
       "      <td>0.0</td>\n",
       "      <td>1.0</td>\n",
       "      <td>0.0</td>\n",
       "      <td>0.0</td>\n",
       "      <td>0.0</td>\n",
       "      <td>0.0</td>\n",
       "      <td>0.0</td>\n",
       "      <td>0.0</td>\n",
       "      <td>0.0</td>\n",
       "      <td>0.0</td>\n",
       "      <td>0.0</td>\n",
       "      <td>0.0</td>\n",
       "      <td>0.0</td>\n",
       "      <td>0.0</td>\n",
       "      <td>0.0</td>\n",
       "    </tr>\n",
       "    <tr>\n",
       "      <th>5420</th>\n",
       "      <td>0.0</td>\n",
       "      <td>0.0</td>\n",
       "      <td>0.0</td>\n",
       "      <td>0.0</td>\n",
       "      <td>0.0</td>\n",
       "      <td>0.0</td>\n",
       "      <td>0.0</td>\n",
       "      <td>0.0</td>\n",
       "      <td>0.0</td>\n",
       "      <td>0.0</td>\n",
       "      <td>0.0</td>\n",
       "      <td>0.0</td>\n",
       "      <td>0.0</td>\n",
       "      <td>0.0</td>\n",
       "      <td>0.0</td>\n",
       "      <td>0.0</td>\n",
       "      <td>0.0</td>\n",
       "      <td>1.0</td>\n",
       "    </tr>\n",
       "    <tr>\n",
       "      <th>5421</th>\n",
       "      <td>0.0</td>\n",
       "      <td>0.0</td>\n",
       "      <td>0.0</td>\n",
       "      <td>0.0</td>\n",
       "      <td>0.0</td>\n",
       "      <td>0.0</td>\n",
       "      <td>0.0</td>\n",
       "      <td>0.0</td>\n",
       "      <td>0.0</td>\n",
       "      <td>1.0</td>\n",
       "      <td>0.0</td>\n",
       "      <td>0.0</td>\n",
       "      <td>0.0</td>\n",
       "      <td>0.0</td>\n",
       "      <td>0.0</td>\n",
       "      <td>0.0</td>\n",
       "      <td>0.0</td>\n",
       "      <td>0.0</td>\n",
       "    </tr>\n",
       "    <tr>\n",
       "      <th>5422</th>\n",
       "      <td>0.0</td>\n",
       "      <td>1.0</td>\n",
       "      <td>0.0</td>\n",
       "      <td>0.0</td>\n",
       "      <td>0.0</td>\n",
       "      <td>0.0</td>\n",
       "      <td>0.0</td>\n",
       "      <td>0.0</td>\n",
       "      <td>0.0</td>\n",
       "      <td>0.0</td>\n",
       "      <td>0.0</td>\n",
       "      <td>0.0</td>\n",
       "      <td>0.0</td>\n",
       "      <td>0.0</td>\n",
       "      <td>0.0</td>\n",
       "      <td>0.0</td>\n",
       "      <td>0.0</td>\n",
       "      <td>0.0</td>\n",
       "    </tr>\n",
       "  </tbody>\n",
       "</table>\n",
       "<p>5423 rows × 18 columns</p>\n",
       "</div>"
      ],
      "text/plain": [
       "       A0   A2   F0   F2  F3V   F5  F5V  F7V   F8   G0   G5  G8III   K0  \\\n",
       "0     0.0  0.0  0.0  0.0  0.0  1.0  0.0  0.0  0.0  0.0  0.0    0.0  0.0   \n",
       "1     0.0  0.0  0.0  0.0  0.0  0.0  0.0  0.0  0.0  0.0  0.0    1.0  0.0   \n",
       "2     0.0  0.0  0.0  0.0  0.0  0.0  0.0  0.0  0.0  1.0  0.0    0.0  0.0   \n",
       "3     0.0  0.0  0.0  0.0  0.0  0.0  0.0  0.0  0.0  0.0  1.0    0.0  0.0   \n",
       "4     0.0  1.0  0.0  0.0  0.0  0.0  0.0  0.0  0.0  0.0  0.0    0.0  0.0   \n",
       "...   ...  ...  ...  ...  ...  ...  ...  ...  ...  ...  ...    ...  ...   \n",
       "5418  0.0  0.0  0.0  0.0  0.0  0.0  0.0  0.0  0.0  0.0  0.0    0.0  0.0   \n",
       "5419  0.0  0.0  0.0  0.0  1.0  0.0  0.0  0.0  0.0  0.0  0.0    0.0  0.0   \n",
       "5420  0.0  0.0  0.0  0.0  0.0  0.0  0.0  0.0  0.0  0.0  0.0    0.0  0.0   \n",
       "5421  0.0  0.0  0.0  0.0  0.0  0.0  0.0  0.0  0.0  1.0  0.0    0.0  0.0   \n",
       "5422  0.0  1.0  0.0  0.0  0.0  0.0  0.0  0.0  0.0  0.0  0.0    0.0  0.0   \n",
       "\n",
       "      K0III  K1III   K2  K2III   K5  \n",
       "0       0.0    0.0  0.0    0.0  0.0  \n",
       "1       0.0    0.0  0.0    0.0  0.0  \n",
       "2       0.0    0.0  0.0    0.0  0.0  \n",
       "3       0.0    0.0  0.0    0.0  0.0  \n",
       "4       0.0    0.0  0.0    0.0  0.0  \n",
       "...     ...    ...  ...    ...  ...  \n",
       "5418    1.0    0.0  0.0    0.0  0.0  \n",
       "5419    0.0    0.0  0.0    0.0  0.0  \n",
       "5420    0.0    0.0  0.0    0.0  1.0  \n",
       "5421    0.0    0.0  0.0    0.0  0.0  \n",
       "5422    0.0    0.0  0.0    0.0  0.0  \n",
       "\n",
       "[5423 rows x 18 columns]"
      ]
     },
     "execution_count": 35,
     "metadata": {},
     "output_type": "execute_result"
    }
   ],
   "source": [
    "encoded = pd.DataFrame(oh_encoded,\n",
    "                      columns=Kolom_Kategori)\n",
    "encoded"
   ]
  },
  {
   "cell_type": "markdown",
   "id": "12793d7b-5165-4967-aefc-0077731ff9a5",
   "metadata": {},
   "source": [
    "#### disini saya menggabungkan dataset baru (setelah reset_index) dengan OneHotEncoding saya juga menghapus kolom index"
   ]
  },
  {
   "cell_type": "code",
   "execution_count": 36,
   "id": "ce0d58b0-4667-4198-9545-d72dca45c749",
   "metadata": {},
   "outputs": [
    {
     "data": {
      "text/html": [
       "<div>\n",
       "<style scoped>\n",
       "    .dataframe tbody tr th:only-of-type {\n",
       "        vertical-align: middle;\n",
       "    }\n",
       "\n",
       "    .dataframe tbody tr th {\n",
       "        vertical-align: top;\n",
       "    }\n",
       "\n",
       "    .dataframe thead th {\n",
       "        text-align: right;\n",
       "    }\n",
       "</style>\n",
       "<table border=\"1\" class=\"dataframe\">\n",
       "  <thead>\n",
       "    <tr style=\"text-align: right;\">\n",
       "      <th></th>\n",
       "      <th>Vmag</th>\n",
       "      <th>Plx</th>\n",
       "      <th>e_Plx</th>\n",
       "      <th>B-V</th>\n",
       "      <th>SpType</th>\n",
       "      <th>A0</th>\n",
       "      <th>A2</th>\n",
       "      <th>F0</th>\n",
       "      <th>F2</th>\n",
       "      <th>F3V</th>\n",
       "      <th>F5</th>\n",
       "      <th>F5V</th>\n",
       "      <th>F7V</th>\n",
       "      <th>F8</th>\n",
       "      <th>G0</th>\n",
       "      <th>G5</th>\n",
       "      <th>G8III</th>\n",
       "      <th>K0</th>\n",
       "      <th>K0III</th>\n",
       "      <th>K1III</th>\n",
       "      <th>K2</th>\n",
       "      <th>K2III</th>\n",
       "      <th>K5</th>\n",
       "    </tr>\n",
       "  </thead>\n",
       "  <tbody>\n",
       "    <tr>\n",
       "      <th>0</th>\n",
       "      <td>0.674727</td>\n",
       "      <td>0.072745</td>\n",
       "      <td>0.027778</td>\n",
       "      <td>0.263306</td>\n",
       "      <td>F5</td>\n",
       "      <td>0.0</td>\n",
       "      <td>0.0</td>\n",
       "      <td>0.0</td>\n",
       "      <td>0.0</td>\n",
       "      <td>0.0</td>\n",
       "      <td>1.0</td>\n",
       "      <td>0.0</td>\n",
       "      <td>0.0</td>\n",
       "      <td>0.0</td>\n",
       "      <td>0.0</td>\n",
       "      <td>0.0</td>\n",
       "      <td>0.0</td>\n",
       "      <td>0.0</td>\n",
       "      <td>0.0</td>\n",
       "      <td>0.0</td>\n",
       "      <td>0.0</td>\n",
       "      <td>0.0</td>\n",
       "      <td>0.0</td>\n",
       "    </tr>\n",
       "    <tr>\n",
       "      <th>1</th>\n",
       "      <td>0.631825</td>\n",
       "      <td>0.070500</td>\n",
       "      <td>0.027778</td>\n",
       "      <td>0.394803</td>\n",
       "      <td>G8III</td>\n",
       "      <td>0.0</td>\n",
       "      <td>0.0</td>\n",
       "      <td>0.0</td>\n",
       "      <td>0.0</td>\n",
       "      <td>0.0</td>\n",
       "      <td>0.0</td>\n",
       "      <td>0.0</td>\n",
       "      <td>0.0</td>\n",
       "      <td>0.0</td>\n",
       "      <td>0.0</td>\n",
       "      <td>0.0</td>\n",
       "      <td>1.0</td>\n",
       "      <td>0.0</td>\n",
       "      <td>0.0</td>\n",
       "      <td>0.0</td>\n",
       "      <td>0.0</td>\n",
       "      <td>0.0</td>\n",
       "      <td>0.0</td>\n",
       "    </tr>\n",
       "    <tr>\n",
       "      <th>2</th>\n",
       "      <td>0.716849</td>\n",
       "      <td>0.120326</td>\n",
       "      <td>0.027778</td>\n",
       "      <td>0.344083</td>\n",
       "      <td>G0</td>\n",
       "      <td>0.0</td>\n",
       "      <td>0.0</td>\n",
       "      <td>0.0</td>\n",
       "      <td>0.0</td>\n",
       "      <td>0.0</td>\n",
       "      <td>0.0</td>\n",
       "      <td>0.0</td>\n",
       "      <td>0.0</td>\n",
       "      <td>0.0</td>\n",
       "      <td>1.0</td>\n",
       "      <td>0.0</td>\n",
       "      <td>0.0</td>\n",
       "      <td>0.0</td>\n",
       "      <td>0.0</td>\n",
       "      <td>0.0</td>\n",
       "      <td>0.0</td>\n",
       "      <td>0.0</td>\n",
       "      <td>0.0</td>\n",
       "    </tr>\n",
       "    <tr>\n",
       "      <th>3</th>\n",
       "      <td>0.634945</td>\n",
       "      <td>0.077000</td>\n",
       "      <td>0.000000</td>\n",
       "      <td>0.446462</td>\n",
       "      <td>G5</td>\n",
       "      <td>0.0</td>\n",
       "      <td>0.0</td>\n",
       "      <td>0.0</td>\n",
       "      <td>0.0</td>\n",
       "      <td>0.0</td>\n",
       "      <td>0.0</td>\n",
       "      <td>0.0</td>\n",
       "      <td>0.0</td>\n",
       "      <td>0.0</td>\n",
       "      <td>0.0</td>\n",
       "      <td>1.0</td>\n",
       "      <td>0.0</td>\n",
       "      <td>0.0</td>\n",
       "      <td>0.0</td>\n",
       "      <td>0.0</td>\n",
       "      <td>0.0</td>\n",
       "      <td>0.0</td>\n",
       "      <td>0.0</td>\n",
       "    </tr>\n",
       "    <tr>\n",
       "      <th>4</th>\n",
       "      <td>0.537441</td>\n",
       "      <td>0.075258</td>\n",
       "      <td>0.000000</td>\n",
       "      <td>0.137758</td>\n",
       "      <td>A2</td>\n",
       "      <td>0.0</td>\n",
       "      <td>1.0</td>\n",
       "      <td>0.0</td>\n",
       "      <td>0.0</td>\n",
       "      <td>0.0</td>\n",
       "      <td>0.0</td>\n",
       "      <td>0.0</td>\n",
       "      <td>0.0</td>\n",
       "      <td>0.0</td>\n",
       "      <td>0.0</td>\n",
       "      <td>0.0</td>\n",
       "      <td>0.0</td>\n",
       "      <td>0.0</td>\n",
       "      <td>0.0</td>\n",
       "      <td>0.0</td>\n",
       "      <td>0.0</td>\n",
       "      <td>0.0</td>\n",
       "      <td>0.0</td>\n",
       "    </tr>\n",
       "  </tbody>\n",
       "</table>\n",
       "</div>"
      ],
      "text/plain": [
       "       Vmag       Plx     e_Plx       B-V SpType   A0   A2   F0   F2  F3V  \\\n",
       "0  0.674727  0.072745  0.027778  0.263306     F5  0.0  0.0  0.0  0.0  0.0   \n",
       "1  0.631825  0.070500  0.027778  0.394803  G8III  0.0  0.0  0.0  0.0  0.0   \n",
       "2  0.716849  0.120326  0.027778  0.344083     G0  0.0  0.0  0.0  0.0  0.0   \n",
       "3  0.634945  0.077000  0.000000  0.446462     G5  0.0  0.0  0.0  0.0  0.0   \n",
       "4  0.537441  0.075258  0.000000  0.137758     A2  0.0  1.0  0.0  0.0  0.0   \n",
       "\n",
       "    F5  F5V  F7V   F8   G0   G5  G8III   K0  K0III  K1III   K2  K2III   K5  \n",
       "0  1.0  0.0  0.0  0.0  0.0  0.0    0.0  0.0    0.0    0.0  0.0    0.0  0.0  \n",
       "1  0.0  0.0  0.0  0.0  0.0  0.0    1.0  0.0    0.0    0.0  0.0    0.0  0.0  \n",
       "2  0.0  0.0  0.0  0.0  1.0  0.0    0.0  0.0    0.0    0.0  0.0    0.0  0.0  \n",
       "3  0.0  0.0  0.0  0.0  0.0  1.0    0.0  0.0    0.0    0.0  0.0    0.0  0.0  \n",
       "4  0.0  0.0  0.0  0.0  0.0  0.0    0.0  0.0    0.0    0.0  0.0    0.0  0.0  "
      ]
     },
     "execution_count": 36,
     "metadata": {},
     "output_type": "execute_result"
    }
   ],
   "source": [
    "df = pd.concat([df_new,encoded],axis=1)\n",
    "pd.set_option('display.max_columns', None)\n",
    "df = df.drop(columns=['index'])\n",
    "df.head()"
   ]
  },
  {
   "cell_type": "markdown",
   "id": "e7766d63-3bea-4407-95ea-8f834766d12d",
   "metadata": {},
   "source": [
    "# Split Data"
   ]
  },
  {
   "cell_type": "markdown",
   "id": "97316275-06e0-4abb-b291-20b56117450c",
   "metadata": {},
   "source": [
    "#### Sebelum melatih dataset kita terlebih dahlu memanggil modul train_test_split dari sklearn"
   ]
  },
  {
   "cell_type": "code",
   "execution_count": 37,
   "id": "09765d76-3461-41f0-b37c-618355cbdf40",
   "metadata": {},
   "outputs": [],
   "source": [
    "from sklearn.model_selection import train_test_split"
   ]
  },
  {
   "cell_type": "code",
   "execution_count": 38,
   "id": "ca0d4f35-32ab-45a5-864b-bb0ee02d30d7",
   "metadata": {},
   "outputs": [],
   "source": [
    "X = df.drop(columns='SpType')\n",
    "Y = df['SpType']"
   ]
  },
  {
   "cell_type": "markdown",
   "id": "7c91a22a-83ef-4f8a-a6fa-bd17b67024a6",
   "metadata": {},
   "source": [
    "#### disini saya melatih dataset tanpa SpType dimana test_size nya 0.3 atau 30"
   ]
  },
  {
   "cell_type": "code",
   "execution_count": 39,
   "id": "e8563ac0-b073-4684-b7d0-2aa1f04bea25",
   "metadata": {},
   "outputs": [],
   "source": [
    "X_train,X_test,Y_train,Y_test = train_test_split(X,Y,test_size=0.3)"
   ]
  },
  {
   "cell_type": "code",
   "execution_count": 40,
   "id": "6432e37c-88ee-422c-a439-62443fb5fa2e",
   "metadata": {},
   "outputs": [
    {
     "name": "stdout",
     "output_type": "stream",
     "text": [
      "(3796, 22)\n",
      "(1627, 22)\n",
      "(3796,)\n",
      "(1627,)\n"
     ]
    }
   ],
   "source": [
    "print(X_train.shape)\n",
    "print(X_test.shape)\n",
    "print(Y_train.shape)\n",
    "print(Y_test.shape)"
   ]
  }
 ],
 "metadata": {
  "kernelspec": {
   "display_name": "Anan_023",
   "language": "python",
   "name": "anan_023"
  },
  "language_info": {
   "codemirror_mode": {
    "name": "ipython",
    "version": 3
   },
   "file_extension": ".py",
   "mimetype": "text/x-python",
   "name": "python",
   "nbconvert_exporter": "python",
   "pygments_lexer": "ipython3",
   "version": "3.10.7"
  }
 },
 "nbformat": 4,
 "nbformat_minor": 5
}
